{
  "nbformat": 4,
  "nbformat_minor": 0,
  "metadata": {
    "colab": {
      "name": "0601.ipynb",
      "provenance": [],
      "authorship_tag": "ABX9TyM+u1DtSlgu10a/GydYUn1x",
      "include_colab_link": true
    },
    "kernelspec": {
      "name": "python3",
      "display_name": "Python 3"
    },
    "language_info": {
      "name": "python"
    }
  },
  "cells": [
    {
      "cell_type": "markdown",
      "metadata": {
        "id": "view-in-github",
        "colab_type": "text"
      },
      "source": [
        "<a href=\"https://colab.research.google.com/github/tku-rinla/Introduction-to-Computers/blob/main/0601.ipynb\" target=\"_parent\"><img src=\"https://colab.research.google.com/assets/colab-badge.svg\" alt=\"Open In Colab\"/></a>"
      ]
    },
    {
      "cell_type": "code",
      "execution_count": null,
      "metadata": {
        "colab": {
          "base_uri": "https://localhost:8080/"
        },
        "id": "OsTU2JFMCnEC",
        "outputId": "17217a57-d08b-430e-8791-8462dcdda697"
      },
      "outputs": [
        {
          "output_type": "stream",
          "name": "stdout",
          "text": [
            "0601\n"
          ]
        }
      ],
      "source": [
        "print(\"0601\")"
      ]
    },
    {
      "cell_type": "markdown",
      "source": [
        "九九乘法表"
      ],
      "metadata": {
        "id": "au92FyklC-26"
      }
    },
    {
      "cell_type": "code",
      "source": [
        "for i in range(2,10):\n",
        "  for j in range(1,10):\n",
        "    product=i*j\n",
        "    print(\"%d*%d=%2d\"%(i,j,product),end=\" \")\n",
        "  print()"
      ],
      "metadata": {
        "colab": {
          "base_uri": "https://localhost:8080/"
        },
        "id": "yulmlpXaDFHq",
        "outputId": "1228f9d1-ebd4-4e66-8647-90538ae57146"
      },
      "execution_count": null,
      "outputs": [
        {
          "output_type": "stream",
          "name": "stdout",
          "text": [
            "2*1= 2 2*2= 4 2*3= 6 2*4= 8 2*5=10 2*6=12 2*7=14 2*8=16 2*9=18 \n",
            "3*1= 3 3*2= 6 3*3= 9 3*4=12 3*5=15 3*6=18 3*7=21 3*8=24 3*9=27 \n",
            "4*1= 4 4*2= 8 4*3=12 4*4=16 4*5=20 4*6=24 4*7=28 4*8=32 4*9=36 \n",
            "5*1= 5 5*2=10 5*3=15 5*4=20 5*5=25 5*6=30 5*7=35 5*8=40 5*9=45 \n",
            "6*1= 6 6*2=12 6*3=18 6*4=24 6*5=30 6*6=36 6*7=42 6*8=48 6*9=54 \n",
            "7*1= 7 7*2=14 7*3=21 7*4=28 7*5=35 7*6=42 7*7=49 7*8=56 7*9=63 \n",
            "8*1= 8 8*2=16 8*3=24 8*4=32 8*5=40 8*6=48 8*7=56 8*8=64 8*9=72 \n",
            "9*1= 9 9*2=18 9*3=27 9*4=36 9*5=45 9*6=54 9*7=63 9*8=72 9*9=81 \n"
          ]
        }
      ]
    },
    {
      "cell_type": "markdown",
      "source": [
        "最小公倍數"
      ],
      "metadata": {
        "id": "8Q3YHuh-ErOR"
      }
    },
    {
      "cell_type": "code",
      "source": [
        "a=int(input(\"請輸入a的值:\"))\n",
        "b=int(input(\"請輸入b的值:\"))\n",
        "\n",
        "maxno=a*b\n",
        "for i in range(1,maxno+1):\n",
        "  if (i%a==0 and i%b==0):\n",
        "    break\n",
        "print(\"%d和%d的最小公倍數=%d\"%(a,b,i))"
      ],
      "metadata": {
        "colab": {
          "base_uri": "https://localhost:8080/"
        },
        "id": "Ax6DtnUcD0EV",
        "outputId": "6c1d9a06-4458-4a8e-fe57-b7f9d38c880a"
      },
      "execution_count": null,
      "outputs": [
        {
          "output_type": "stream",
          "name": "stdout",
          "text": [
            "請輸入a的值:5\n",
            "請輸入b的值:4\n",
            "5和4的最小公倍數=20\n"
          ]
        }
      ]
    },
    {
      "cell_type": "markdown",
      "source": [
        "數列排除5"
      ],
      "metadata": {
        "id": "LgfocX1nExi0"
      }
    },
    {
      "cell_type": "code",
      "source": [
        "n=int(input(\"請輸入一個正整數:\"))\n",
        "for i in range(1,n+1):\n",
        "  if i%5==0:\n",
        "    continue\n",
        "  print(i,end=\" \")"
      ],
      "metadata": {
        "colab": {
          "base_uri": "https://localhost:8080/"
        },
        "id": "VHhna1ieE08n",
        "outputId": "f0517a61-d2a4-4a42-c2d1-b624ef0cbfac"
      },
      "execution_count": null,
      "outputs": [
        {
          "output_type": "stream",
          "name": "stdout",
          "text": [
            "請輸入一個正整數:25\n",
            "1 2 3 4 6 7 8 9 11 12 13 14 16 17 18 19 21 22 23 24 "
          ]
        }
      ]
    },
    {
      "cell_type": "code",
      "source": [
        "total=n=0\n",
        "while(n<10):\n",
        "  n+=1\n",
        "  total+=n\n",
        "print(total)"
      ],
      "metadata": {
        "colab": {
          "base_uri": "https://localhost:8080/"
        },
        "id": "7RuD40PoFrBy",
        "outputId": "5207e9f6-3779-4c7f-bfd1-a7879f4f6ca7"
      },
      "execution_count": null,
      "outputs": [
        {
          "output_type": "stream",
          "name": "stdout",
          "text": [
            "55\n"
          ]
        }
      ]
    },
    {
      "cell_type": "code",
      "source": [
        "total=n=0\n",
        "while(n<=10):\n",
        "  total+=n\n",
        "  n+=1\n",
        "print(total)"
      ],
      "metadata": {
        "colab": {
          "base_uri": "https://localhost:8080/"
        },
        "id": "6iNkXiZ0GYqW",
        "outputId": "f59890db-9c2c-421c-e8e0-d92a4550eb62"
      },
      "execution_count": null,
      "outputs": [
        {
          "output_type": "stream",
          "name": "stdout",
          "text": [
            "55\n"
          ]
        }
      ]
    },
    {
      "cell_type": "code",
      "source": [
        "total=i=1\n",
        "n=int(input(\"請輸入正整數n的值:\"))\n",
        "while i<=n:\n",
        "  total*=i\n",
        "  i+=1\n",
        "print(\"%d!=%d\"%(n,total))"
      ],
      "metadata": {
        "colab": {
          "base_uri": "https://localhost:8080/"
        },
        "id": "37PZbpYfH-Ow",
        "outputId": "9107094d-0a44-49eb-f681-7e9d72ebd811"
      },
      "execution_count": null,
      "outputs": [
        {
          "output_type": "stream",
          "name": "stdout",
          "text": [
            "請輸入正整數n的值:100\n",
            "100!=93326215443944152681699238856266700490715968264381621468592963895217599993229915608941463976156518286253697920827223758251185210916864000000000000000000000000\n"
          ]
        }
      ]
    },
    {
      "cell_type": "code",
      "source": [
        "n=0\n",
        "for i in range(51):\n",
        "  if(i%2)==0:\n",
        "   n+=i\n",
        "print(n)"
      ],
      "metadata": {
        "colab": {
          "base_uri": "https://localhost:8080/"
        },
        "id": "bZtdp_KVW7IT",
        "outputId": "9de85e3a-8872-407f-c399-48b705c9e09a"
      },
      "execution_count": null,
      "outputs": [
        {
          "output_type": "stream",
          "name": "stdout",
          "text": [
            "650\n"
          ]
        }
      ]
    },
    {
      "cell_type": "code",
      "source": [
        "n=0\n",
        "for i in range(51):\n",
        "  if(i%2)==1:\n",
        "   n+=i\n",
        "print(n)"
      ],
      "metadata": {
        "id": "Lw2MBj2cJX8S",
        "colab": {
          "base_uri": "https://localhost:8080/"
        },
        "outputId": "edb5c738-64ab-4a1d-da42-46e9c3110dba"
      },
      "execution_count": null,
      "outputs": [
        {
          "output_type": "stream",
          "name": "stdout",
          "text": [
            "625\n"
          ]
        }
      ]
    },
    {
      "cell_type": "code",
      "source": [
        "n=int(input(\"請輸入正整數:\"))\n",
        "def right_triangle2(n):\n",
        "\tfor i in range(n):\n",
        "\t    print((n-i)*'*')\n",
        "right_triangle2(n)"
      ],
      "metadata": {
        "colab": {
          "base_uri": "https://localhost:8080/"
        },
        "id": "dozRJc4pXJb0",
        "outputId": "55bed15c-ff80-4bd3-e433-e5a1d266190e"
      },
      "execution_count": null,
      "outputs": [
        {
          "output_type": "stream",
          "name": "stdout",
          "text": [
            "請輸入正整數:7\n",
            "*******\n",
            "******\n",
            "*****\n",
            "****\n",
            "***\n",
            "**\n",
            "*\n"
          ]
        }
      ]
    },
    {
      "cell_type": "code",
      "source": [
        "sum=0\n",
        "for i in range(1,101):\n",
        "  if i%3==0 or i%7==0:\n",
        "    sum+=i\n",
        "print(\"數值1~100中，所有是3或7的倍數總和=\"+str(sum))"
      ],
      "metadata": {
        "colab": {
          "base_uri": "https://localhost:8080/"
        },
        "id": "ds67p2XFYUBs",
        "outputId": "a1271c12-80fa-4129-fa9a-46bc4291a4d0"
      },
      "execution_count": null,
      "outputs": [
        {
          "output_type": "stream",
          "name": "stdout",
          "text": [
            "數值1~100中，所有是3或7的倍數總和=2208\n"
          ]
        }
      ]
    },
    {
      "cell_type": "code",
      "source": [
        "a = b = int(input('請輸入一個正整數：'))\n",
        "output = ''                 \n",
        "while True:\n",
        "    for i in range(2,(a+1)):\n",
        "        if i==b:\n",
        "            break\n",
        "        if a%i==0:\n",
        "            output += f'{i}'\n",
        "            a = int(a/i)\n",
        "            break\n",
        "    if a==1 or a==b:\n",
        "        break\n",
        "    else:\n",
        "        output += ' '\n",
        "if a == b:\n",
        "    print(f'{b}的因數有{output}')\n",
        "    print(f'{b} 是質數')\n",
        "else:\n",
        "    print(f'{b}的因數有{output}')\n",
        "    print(f'{b}不是質數')"
      ],
      "metadata": {
        "colab": {
          "base_uri": "https://localhost:8080/"
        },
        "id": "J8pWHidXZf5A",
        "outputId": "693fab47-9fad-499d-caf8-88f7d5f1f726"
      },
      "execution_count": null,
      "outputs": [
        {
          "output_type": "stream",
          "name": "stdout",
          "text": [
            "請輸入一個正整數：11\n",
            "11的因數有\n",
            "11 是質數\n"
          ]
        }
      ]
    }
  ]
}